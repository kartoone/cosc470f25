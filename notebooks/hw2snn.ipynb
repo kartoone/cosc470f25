{
 "cells": [
  {
   "cell_type": "markdown",
   "id": "3bb67599",
   "metadata": {},
   "source": [
    "# HW 2 - Simple Neural Networks\n",
    "\n",
    "Part 1: In this first real coding assignment, you will initially explore the operation of a single perceptron (more for historical value than for modern usefulness) and a single Sigmoid neuron to implement the \"real world\" example of going to a cheese festival.\n",
    "\n",
    "Part 2: In the second part, you will switch over to using the author's code to complete a full neural network that can recognize handwritten digits. You will train and run the network monitoring both how long it takes to train AND the test accuracy once training is complete.\n",
    "\n",
    "Part 3: In the third part, you will experiment with hyper-parameters such as the number of epochs, the batch size, and the learning rate. Again, you will monitor the training time and the test accuracy after training is complete.\n",
    "\n",
    "Part 4: In the final part, you will experiment with the network structure itself by changing the number of neurons in the hidden layer. You will again report the training time and test accuracy, but this time you will also report the evaluation time.\n"
   ]
  },
  {
   "cell_type": "code",
   "execution_count": 1,
   "id": "38d25619",
   "metadata": {},
   "outputs": [],
   "source": [
    "from abc import abstractmethod\n",
    "class Neuron:\n",
    "  def __init__(self, w, b):\n",
    "    self.w = w\n",
    "    self.b = b\n",
    "\n",
    "  @abstractmethod\n",
    "  def output(self, x):\n",
    "    pass"
   ]
  },
  {
   "cell_type": "code",
   "execution_count": 2,
   "id": "d446292e",
   "metadata": {},
   "outputs": [],
   "source": [
    "import math\n",
    "\n",
    "class Perceptron(Neuron):\n",
    "  def __init__(self, w, b):\n",
    "    super().__init__(w, b)\n",
    "\n",
    "  \"\"\"\n",
    "    x: list of inputs ... must be same length as w\n",
    "    return 0 or 1 based on classic perceptron calculation weighted sum of inputs plus bias must be strictly greater than 0 to produce a 1 otherwise return a 0\n",
    "  \"\"\"\n",
    "  def output(self, x):\n",
    "    z = 0\n",
    "    for i in range(len(self.w)):\n",
    "      z = z + self.w[i]*x[i]\n",
    "    z = z + self.b\n",
    "    return 0 if z <= 0 else 1\n",
    "\n",
    "class SigmoidNeuron(Neuron):\n",
    "  def __init__(self, w, b):\n",
    "    super().__init__(w, b)\n",
    "\n",
    "  \"\"\"\n",
    "    x: list of inputs ... must be same length as w\n",
    "    return 0 or 1 based on classic perceptron calculation weighted sum of inputs plus bias must be strictly greater than 0 to produce a 1 otherwise return a 0\n",
    "  \"\"\"\n",
    "  def output(self, x):\n",
    "    z = 0\n",
    "    for i in range(len(self.w)):\n",
    "      z = z + self.w[i]*x[i]\n",
    "    z = z + self.b\n",
    "    return 1/(1+math.exp(-z))\n"
   ]
  },
  {
   "cell_type": "code",
   "execution_count": 3,
   "id": "f43d4a5f",
   "metadata": {},
   "outputs": [],
   "source": [
    "# PART 1a - instantiate a single Perceptron with the weights described in Chapter 1 for going to the festival. Then print out the output of calling the \"output\" function on that neuron with three combinations of inputs for the weather, girlfiend, and public transit inputs.\n",
    "# PART 2b - repeat Part1a, but this time use a SigmoidNueron instead. Compare the output with Part 1a and explain in a comment how this part using a SigmoidNeuron could still give you the \"right\" answer about whether to go or not."
   ]
  },
  {
   "cell_type": "code",
   "execution_count": 7,
   "id": "54278848",
   "metadata": {},
   "outputs": [
    {
     "name": "stdout",
     "output_type": "stream",
     "text": [
      "/workspaces/cosc470f25\n",
      "/workspaces/cosc470f25\n",
      "fatal: destination path 'nn' already exists and is not an empty directory.\n"
     ]
    }
   ],
   "source": [
    "# PART 2 - run the code below to download your author's code and then train and evaluate the network. ****Make note of the total training time and test accuracy****\n",
    "#%cd /content \n",
    "%cd \"/workspaces/cosc470f25/\" \n",
    "!pwd\n",
    "!git clone \"https://github.com/MichalDanielDobrzanski/DeepLearningPython\" nn\n",
    "\n",
    "\n",
    "\n"
   ]
  },
  {
   "cell_type": "code",
   "execution_count": null,
   "id": "8862b19a",
   "metadata": {},
   "outputs": [],
   "source": [
    "# load the data into memory (training_data and test_data numpy arrays)\n",
    "%cd nn\n",
    "import mnist_loader\n",
    "training_data, validation_data, test_data = mnist_loader.load_data_wrapper()\n",
    "training_data = list(training_data)\n",
    "test_data = list(test_data)\n",
    "print(len(training_data))\n",
    "print(len(test_data))"
   ]
  },
  {
   "cell_type": "code",
   "execution_count": null,
   "id": "812336cf",
   "metadata": {},
   "outputs": [],
   "source": [
    "# default run with default hyperparameters - 20 epochs, batch size of 10, and learning rate of 3.0\n",
    "\n",
    "import importlib\n",
    "import network\n",
    "importlib.reload(network)\n",
    "net = network.Network([784, 30, 10])\n",
    "net.SGD(training_data, 20, 10, 3.0, test_data=test_data)"
   ]
  },
  {
   "cell_type": "code",
   "execution_count": null,
   "id": "0b205e35",
   "metadata": {},
   "outputs": [],
   "source": [
    "# PART 3 - experiment with the hyperparameters ... try the following combinations\n",
    "# Varying the number of epochs: 5, 10, 15, 30 (see below)\n",
    "# 5, 10, 3.0\n",
    "# 10, 10, 3.0\n",
    "# 15, 10, 3.0\n",
    "# 30, 10, 3.0\n",
    "\n",
    "# Varying the batch size: 5, 20, 30\n",
    "# 20, 5, 3.0\n",
    "# 20, 20, 3.0\n",
    "# 20, 30, 3.0\n",
    "\n",
    "# Varying the learning rate: 2.5, 3.5, 4.0\n",
    "# 20, 10, 2.5\n",
    "# 20, 10, 3.5\n",
    "# 20, 10, 4.0\n",
    "\n",
    "\n",
    "# After all 10 RUNS plus your original run with the defaults (20, 10, 3.0), plot your timing results and final test accuracy in a single chart using matplotlib\n",
    "\n"
   ]
  },
  {
   "cell_type": "code",
   "execution_count": null,
   "id": "8bee4ce8",
   "metadata": {},
   "outputs": [],
   "source": [
    "# PART 4 - experiment with network structure, just try three different configurations\n",
    "# [784, 10, 10], [784, 50, 10], and [784, 100, 10]\n",
    "\n",
    "# After these 3 runs, plot your training timing results, test accuracy, AND evaluation timing\n",
    "# To measure the evaluation time, manually test 100 samples from the test dataset, measure how long that takes and divide by 100 to get a per/image evaluate rate\n",
    "\n",
    "# Use Matplotlib to plot ALL THREE results (training time, test accuracy, and evaluation rate) on three different axes\n"
   ]
  }
 ],
 "metadata": {
  "kernelspec": {
   "display_name": "Python 3",
   "language": "python",
   "name": "python3"
  },
  "language_info": {
   "codemirror_mode": {
    "name": "ipython",
    "version": 3
   },
   "file_extension": ".py",
   "mimetype": "text/x-python",
   "name": "python",
   "nbconvert_exporter": "python",
   "pygments_lexer": "ipython3",
   "version": "3.12.1"
  }
 },
 "nbformat": 4,
 "nbformat_minor": 5
}
