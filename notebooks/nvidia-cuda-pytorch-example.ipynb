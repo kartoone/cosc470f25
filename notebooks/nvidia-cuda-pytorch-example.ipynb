{
 "cells": [
  {
   "cell_type": "code",
   "execution_count": null,
   "id": "d6c3e0e1",
   "metadata": {},
   "outputs": [],
   "source": [
    "#First Install Nvidia Cuda Toolkit 11.2 for windows x64 from https://developer.nvidia.com/cuda-11.2.0-download-archive\n",
    "#Second download the .zip cuDNN 8.1.1 for Cuda 11.2 for Windows x64 from https://developer.download.nvidia.com/compute/redist/cudnn/v8.1.1/\n",
    "#Third drag the bin, include, and lib folders from the zip to the Nvidia GPU Computing Toolkit folder in ProgramFiles that includes the same folder names bin, include, lib, ect."
   ]
  },
  {
   "cell_type": "code",
   "execution_count": null,
   "id": "987da0b9",
   "metadata": {},
   "outputs": [],
   "source": [
    "# Remove any CPU-only PyTorch first\n",
    "%pip uninstall -y torch torchvision\n",
    "\n",
    "# Install CUDA-enabled PyTorch (1.12.1 + cu113) and torchvision\n",
    "%pip install torch==1.12.1+cu113 torchvision==0.13.1+cu113 --extra-index-url https://download.pytorch.org/whl/cu113\n",
    "\n",
    "# Install TensorFlow 2.10 (last Windows GPU-supported build)\n",
    "%pip install \"tensorflow==2.10.0\" \"numpy<2\"\n",
    "\n",
    "# Install other common libs\n",
    "%pip install keras matplotlib\n"
   ]
  },
  {
   "cell_type": "code",
   "execution_count": 1,
   "id": "da3ec631",
   "metadata": {},
   "outputs": [
    {
     "name": "stdout",
     "output_type": "stream",
     "text": [
      "GPUs: [PhysicalDevice(name='/physical_device:GPU:0', device_type='GPU')]\n"
     ]
    }
   ],
   "source": [
    "import tensorflow as tf\n",
    "\n",
    "# Let TF grow GPU memory as needed (safer on Windows)\n",
    "for gpu in tf.config.list_physical_devices(\"GPU\"):\n",
    "    try:\n",
    "        tf.config.experimental.set_memory_growth(gpu, True)\n",
    "    except Exception as e:\n",
    "        print(\"Memory-growth set failed:\", e)\n",
    "\n",
    "print(\"GPUs:\", tf.config.list_physical_devices(\"GPU\"))\n"
   ]
  },
  {
   "cell_type": "code",
   "execution_count": 2,
   "id": "05cef7b1",
   "metadata": {},
   "outputs": [
    {
     "name": "stdout",
     "output_type": "stream",
     "text": [
      "TensorFlow version: 2.10.0\n",
      "Built with CUDA: True\n",
      "GPU Available: [PhysicalDevice(name='/physical_device:GPU:0', device_type='GPU')]\n"
     ]
    }
   ],
   "source": [
    "import tensorflow as tf\n",
    "\n",
    "print(\"TensorFlow version:\", tf.__version__)\n",
    "print(\"Built with CUDA:\", tf.test.is_built_with_cuda())\n",
    "print(\"GPU Available:\", tf.config.list_physical_devices(\"GPU\"))\n"
   ]
  },
  {
   "cell_type": "code",
   "execution_count": 1,
   "id": "2ed7ab65",
   "metadata": {},
   "outputs": [
    {
     "name": "stdout",
     "output_type": "stream",
     "text": [
      "c:\\Users\\User\\Documents\\Workbooks\\.venv\\Scripts\\python.exe\n",
      "torch ok: 1.12.1+cu113\n"
     ]
    }
   ],
   "source": [
    "import sys, platform\n",
    "print(sys.executable)\n",
    "import torch\n",
    "print(\"torch ok:\", torch.__version__)\n"
   ]
  },
  {
   "cell_type": "code",
   "execution_count": 3,
   "id": "0fedcbb2",
   "metadata": {},
   "outputs": [
    {
     "name": "stdout",
     "output_type": "stream",
     "text": [
      "Using GPU: NVIDIA GeForce RTX 4080 SUPER\n"
     ]
    }
   ],
   "source": [
    "import torch\n",
    "\n",
    "if torch.cuda.is_available():\n",
    "    device = torch.device(\"cuda\")\n",
    "    print(\"Using GPU:\", torch.cuda.get_device_name(0))\n",
    "else:\n",
    "    device = torch.device(\"cpu\")\n",
    "    print(\"Using CPU\")"
   ]
  }
 ],
 "metadata": {
  "kernelspec": {
   "display_name": ".venv",
   "language": "python",
   "name": "python3"
  },
  "language_info": {
   "codemirror_mode": {
    "name": "ipython",
    "version": 3
   },
   "file_extension": ".py",
   "mimetype": "text/x-python",
   "name": "python",
   "nbconvert_exporter": "python",
   "pygments_lexer": "ipython3",
   "version": "3.10.0"
  }
 },
 "nbformat": 4,
 "nbformat_minor": 5
}
